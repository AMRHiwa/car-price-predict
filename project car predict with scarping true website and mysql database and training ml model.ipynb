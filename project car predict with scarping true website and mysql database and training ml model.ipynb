{
 "cells": [
  {
   "cell_type": "markdown",
   "id": "ded57eb1",
   "metadata": {},
   "source": [
    "Importing packages"
   ]
  },
  {
   "cell_type": "code",
   "execution_count": 82,
   "id": "1f01ea5a",
   "metadata": {},
   "outputs": [],
   "source": [
    "import requests\n",
    "from bs4 import BeautifulSoup\n",
    "from mysql.connector import connect\n",
    "import pandas as pd\n",
    "import numpy as np\n",
    "from sklearn.model_selection import train_test_split\n",
    "from sklearn.preprocessing import StandardScaler\n",
    "from sklearn.linear_model import LinearRegression"
   ]
  },
  {
   "cell_type": "markdown",
   "id": "56f221d5",
   "metadata": {},
   "source": [
    "define the function for save date to our database"
   ]
  },
  {
   "cell_type": "code",
   "execution_count": 36,
   "id": "ec2108dc",
   "metadata": {},
   "outputs": [],
   "source": [
    "def save_to_database(car_list):\n",
    "    cnx = connect(user= 'root', password='44527077', host='127.0.0.1', database='advance_python')\n",
    "    cursor = cnx.cursor()\n",
    "#     cursor.execute('CREATE TABLE car_db (price VARCHAR(30), milage VARCHAR(40), year INT)')\n",
    "#     cnx.commit()\n",
    "    for item in car_list:\n",
    "        cursor.execute(f'INSERT INTO car_db VALUE (\\'{item[0]}\\', \\'{item[1]}\\', {item[2]})')\n",
    "        cnx.commit()\n",
    "    print('Done!')\n",
    "    cnx.close()"
   ]
  },
  {
   "cell_type": "markdown",
   "id": "7cd8d3e6",
   "metadata": {},
   "source": [
    "define the function for read data from database"
   ]
  },
  {
   "cell_type": "code",
   "execution_count": 42,
   "id": "d11981e8",
   "metadata": {},
   "outputs": [],
   "source": [
    "def read_from_database():\n",
    "    cnx = connect(user= 'root', password='44527077', host='127.0.0.1', database='advance_python')\n",
    "    cursor = cnx.cursor()\n",
    "    cursor.execute('SELECT * FROM car_db')\n",
    "    car_milages = []\n",
    "    car_years = []\n",
    "    car_prices = []\n",
    "    for price, milage, year in cursor:\n",
    "        car_milages.append(milage)\n",
    "        car_prices.append(price)\n",
    "        car_years.append(year)\n",
    "\n",
    "    print('Reading Done!')\n",
    "    cnx.close()\n",
    "    return dict(year= car_years, milage= car_milages, price= car_prices)"
   ]
  },
  {
   "cell_type": "markdown",
   "id": "0e39822b",
   "metadata": {},
   "source": [
    "define the function for getting information that we want from website and internet"
   ]
  },
  {
   "cell_type": "code",
   "execution_count": 26,
   "id": "97f5e75e",
   "metadata": {},
   "outputs": [],
   "source": [
    "def getting_data(model, page):\n",
    "    car_listings = []\n",
    "\n",
    "    for page in range(1, 11):\n",
    "        url = f'https://www.truecar.com/used-cars-for-sale/listings/{model}/?page={page}'\n",
    "        request = requests.get(url)\n",
    "        soup = BeautifulSoup(request.text, 'html')\n",
    "        \n",
    "        listings = soup.find_all('div', class_='card-content')\n",
    "        \n",
    "        for listing in listings:        \n",
    "            price = listing.find('span', attrs={'data-test': 'vehicleListingPriceAmount'}).text.strip()\n",
    "            mileage = listing.find('div', class_='truncate text-xs', attrs={'data-test': 'vehicleMileage'}).text.strip()\n",
    "            year = listing.find('span', class_=\"vehicle-card-year text-xs\").text.strip()\n",
    "            car_listings.append((price, mileage, year))\n",
    "    return car_listings\n"
   ]
  },
  {
   "cell_type": "markdown",
   "id": "7fbc3044",
   "metadata": {},
   "source": [
    "I want to read 10 page of bmw model from truecar website"
   ]
  },
  {
   "cell_type": "code",
   "execution_count": 27,
   "id": "9424edd2",
   "metadata": {},
   "outputs": [],
   "source": [
    "car_list = getting_data('bmw', 10)"
   ]
  },
  {
   "cell_type": "code",
   "execution_count": 28,
   "id": "a9892edd",
   "metadata": {},
   "outputs": [
    {
     "data": {
      "text/plain": [
       "309"
      ]
     },
     "execution_count": 28,
     "metadata": {},
     "output_type": "execute_result"
    }
   ],
   "source": [
    "len(car_list)"
   ]
  },
  {
   "cell_type": "code",
   "execution_count": 29,
   "id": "bc687acc",
   "metadata": {},
   "outputs": [
    {
     "data": {
      "text/plain": [
       "[('$26,641', '51,632 miles', '2020'),\n",
       " ('$19,995', '57,505 miles', '2017'),\n",
       " ('$39,000', '26,352 miles', '2022'),\n",
       " ('$19,490', '108,231 miles', '2020'),\n",
       " ('$24,998', '54,135 miles', '2020')]"
      ]
     },
     "execution_count": 29,
     "metadata": {},
     "output_type": "execute_result"
    }
   ],
   "source": [
    "car_list[:5]"
   ]
  },
  {
   "cell_type": "markdown",
   "id": "70b43f0d",
   "metadata": {},
   "source": [
    "save the information to our database"
   ]
  },
  {
   "cell_type": "code",
   "execution_count": 37,
   "id": "ca288453",
   "metadata": {},
   "outputs": [
    {
     "name": "stdout",
     "output_type": "stream",
     "text": [
      "Done!\n"
     ]
    }
   ],
   "source": [
    "save_to_database(car_list)"
   ]
  },
  {
   "cell_type": "markdown",
   "id": "95660a19",
   "metadata": {},
   "source": [
    "read data from database and transform to dataframe"
   ]
  },
  {
   "cell_type": "code",
   "execution_count": 44,
   "id": "4589ba1c",
   "metadata": {},
   "outputs": [
    {
     "name": "stdout",
     "output_type": "stream",
     "text": [
      "Reading Done!\n"
     ]
    }
   ],
   "source": [
    "data = read_from_database()"
   ]
  },
  {
   "cell_type": "code",
   "execution_count": 55,
   "id": "50b208af",
   "metadata": {},
   "outputs": [
    {
     "data": {
      "text/html": [
       "<div>\n",
       "<style scoped>\n",
       "    .dataframe tbody tr th:only-of-type {\n",
       "        vertical-align: middle;\n",
       "    }\n",
       "\n",
       "    .dataframe tbody tr th {\n",
       "        vertical-align: top;\n",
       "    }\n",
       "\n",
       "    .dataframe thead th {\n",
       "        text-align: right;\n",
       "    }\n",
       "</style>\n",
       "<table border=\"1\" class=\"dataframe\">\n",
       "  <thead>\n",
       "    <tr style=\"text-align: right;\">\n",
       "      <th></th>\n",
       "      <th>year</th>\n",
       "      <th>milage</th>\n",
       "      <th>price</th>\n",
       "    </tr>\n",
       "  </thead>\n",
       "  <tbody>\n",
       "    <tr>\n",
       "      <th>0</th>\n",
       "      <td>2020</td>\n",
       "      <td>51,632 miles</td>\n",
       "      <td>$26,641</td>\n",
       "    </tr>\n",
       "    <tr>\n",
       "      <th>1</th>\n",
       "      <td>2017</td>\n",
       "      <td>57,505 miles</td>\n",
       "      <td>$19,995</td>\n",
       "    </tr>\n",
       "    <tr>\n",
       "      <th>2</th>\n",
       "      <td>2022</td>\n",
       "      <td>26,352 miles</td>\n",
       "      <td>$39,000</td>\n",
       "    </tr>\n",
       "    <tr>\n",
       "      <th>3</th>\n",
       "      <td>2020</td>\n",
       "      <td>108,231 miles</td>\n",
       "      <td>$19,490</td>\n",
       "    </tr>\n",
       "    <tr>\n",
       "      <th>4</th>\n",
       "      <td>2020</td>\n",
       "      <td>54,135 miles</td>\n",
       "      <td>$24,998</td>\n",
       "    </tr>\n",
       "  </tbody>\n",
       "</table>\n",
       "</div>"
      ],
      "text/plain": [
       "   year         milage    price\n",
       "0  2020   51,632 miles  $26,641\n",
       "1  2017   57,505 miles  $19,995\n",
       "2  2022   26,352 miles  $39,000\n",
       "3  2020  108,231 miles  $19,490\n",
       "4  2020   54,135 miles  $24,998"
      ]
     },
     "execution_count": 55,
     "metadata": {},
     "output_type": "execute_result"
    }
   ],
   "source": [
    "df = pd.DataFrame(data)\n",
    "df.head()"
   ]
  },
  {
   "cell_type": "markdown",
   "id": "212177d4",
   "metadata": {},
   "source": [
    "save dataframe into a csv file"
   ]
  },
  {
   "cell_type": "code",
   "execution_count": 47,
   "id": "bf96d375",
   "metadata": {},
   "outputs": [],
   "source": [
    "df.to_csv('data.csv')"
   ]
  },
  {
   "cell_type": "code",
   "execution_count": 48,
   "id": "d90d9790",
   "metadata": {},
   "outputs": [
    {
     "name": "stdout",
     "output_type": "stream",
     "text": [
      "<class 'pandas.core.frame.DataFrame'>\n",
      "RangeIndex: 309 entries, 0 to 308\n",
      "Data columns (total 3 columns):\n",
      " #   Column  Non-Null Count  Dtype \n",
      "---  ------  --------------  ----- \n",
      " 0   year    309 non-null    int64 \n",
      " 1   milage  309 non-null    object\n",
      " 2   price   309 non-null    object\n",
      "dtypes: int64(1), object(2)\n",
      "memory usage: 7.4+ KB\n"
     ]
    }
   ],
   "source": [
    "df.info()"
   ]
  },
  {
   "cell_type": "code",
   "execution_count": 61,
   "id": "19e6aa66",
   "metadata": {},
   "outputs": [
    {
     "data": {
      "text/plain": [
       "0       51,632 miles\n",
       "1       57,505 miles\n",
       "2       26,352 miles\n",
       "3      108,231 miles\n",
       "4       54,135 miles\n",
       "           ...      \n",
       "304      9,412 miles\n",
       "305     43,682 miles\n",
       "306     52,036 miles\n",
       "307     22,096 miles\n",
       "308      4,262 miles\n",
       "Name: milage, Length: 309, dtype: object"
      ]
     },
     "execution_count": 61,
     "metadata": {},
     "output_type": "execute_result"
    }
   ],
   "source": [
    "df.milage"
   ]
  },
  {
   "cell_type": "markdown",
   "id": "893bc4e5",
   "metadata": {},
   "source": [
    "preprocessing"
   ]
  },
  {
   "cell_type": "code",
   "execution_count": 64,
   "id": "51f100f0",
   "metadata": {},
   "outputs": [],
   "source": [
    "df.milage = df.milage.str.extract('(.+)\\s',expand=False)"
   ]
  },
  {
   "cell_type": "code",
   "execution_count": 66,
   "id": "6f712644",
   "metadata": {},
   "outputs": [],
   "source": [
    "df.milage = df.milage.str.replace(',', '')"
   ]
  },
  {
   "cell_type": "code",
   "execution_count": 67,
   "id": "bbd6ed80",
   "metadata": {},
   "outputs": [],
   "source": [
    "df.milage = df.milage.astype('int')"
   ]
  },
  {
   "cell_type": "code",
   "execution_count": 68,
   "id": "ce16ff16",
   "metadata": {},
   "outputs": [
    {
     "data": {
      "text/html": [
       "<div>\n",
       "<style scoped>\n",
       "    .dataframe tbody tr th:only-of-type {\n",
       "        vertical-align: middle;\n",
       "    }\n",
       "\n",
       "    .dataframe tbody tr th {\n",
       "        vertical-align: top;\n",
       "    }\n",
       "\n",
       "    .dataframe thead th {\n",
       "        text-align: right;\n",
       "    }\n",
       "</style>\n",
       "<table border=\"1\" class=\"dataframe\">\n",
       "  <thead>\n",
       "    <tr style=\"text-align: right;\">\n",
       "      <th></th>\n",
       "      <th>year</th>\n",
       "      <th>milage</th>\n",
       "      <th>price</th>\n",
       "    </tr>\n",
       "  </thead>\n",
       "  <tbody>\n",
       "    <tr>\n",
       "      <th>0</th>\n",
       "      <td>2020</td>\n",
       "      <td>51632</td>\n",
       "      <td>$26,641</td>\n",
       "    </tr>\n",
       "    <tr>\n",
       "      <th>1</th>\n",
       "      <td>2017</td>\n",
       "      <td>57505</td>\n",
       "      <td>$19,995</td>\n",
       "    </tr>\n",
       "    <tr>\n",
       "      <th>2</th>\n",
       "      <td>2022</td>\n",
       "      <td>26352</td>\n",
       "      <td>$39,000</td>\n",
       "    </tr>\n",
       "    <tr>\n",
       "      <th>3</th>\n",
       "      <td>2020</td>\n",
       "      <td>108231</td>\n",
       "      <td>$19,490</td>\n",
       "    </tr>\n",
       "    <tr>\n",
       "      <th>4</th>\n",
       "      <td>2020</td>\n",
       "      <td>54135</td>\n",
       "      <td>$24,998</td>\n",
       "    </tr>\n",
       "  </tbody>\n",
       "</table>\n",
       "</div>"
      ],
      "text/plain": [
       "   year  milage    price\n",
       "0  2020   51632  $26,641\n",
       "1  2017   57505  $19,995\n",
       "2  2022   26352  $39,000\n",
       "3  2020  108231  $19,490\n",
       "4  2020   54135  $24,998"
      ]
     },
     "execution_count": 68,
     "metadata": {},
     "output_type": "execute_result"
    }
   ],
   "source": [
    "df.head()"
   ]
  },
  {
   "cell_type": "code",
   "execution_count": 70,
   "id": "eda036a6",
   "metadata": {},
   "outputs": [],
   "source": [
    "df.price = df.price.str.extract('\\$(.+)',expand=False)\n",
    "df.price = df.price.str.replace(',', '')\n",
    "df.price = df.price.astype('int')"
   ]
  },
  {
   "cell_type": "code",
   "execution_count": 71,
   "id": "f07233f7",
   "metadata": {},
   "outputs": [
    {
     "data": {
      "text/html": [
       "<div>\n",
       "<style scoped>\n",
       "    .dataframe tbody tr th:only-of-type {\n",
       "        vertical-align: middle;\n",
       "    }\n",
       "\n",
       "    .dataframe tbody tr th {\n",
       "        vertical-align: top;\n",
       "    }\n",
       "\n",
       "    .dataframe thead th {\n",
       "        text-align: right;\n",
       "    }\n",
       "</style>\n",
       "<table border=\"1\" class=\"dataframe\">\n",
       "  <thead>\n",
       "    <tr style=\"text-align: right;\">\n",
       "      <th></th>\n",
       "      <th>year</th>\n",
       "      <th>milage</th>\n",
       "      <th>price</th>\n",
       "    </tr>\n",
       "  </thead>\n",
       "  <tbody>\n",
       "    <tr>\n",
       "      <th>0</th>\n",
       "      <td>2020</td>\n",
       "      <td>51632</td>\n",
       "      <td>26641</td>\n",
       "    </tr>\n",
       "    <tr>\n",
       "      <th>1</th>\n",
       "      <td>2017</td>\n",
       "      <td>57505</td>\n",
       "      <td>19995</td>\n",
       "    </tr>\n",
       "    <tr>\n",
       "      <th>2</th>\n",
       "      <td>2022</td>\n",
       "      <td>26352</td>\n",
       "      <td>39000</td>\n",
       "    </tr>\n",
       "    <tr>\n",
       "      <th>3</th>\n",
       "      <td>2020</td>\n",
       "      <td>108231</td>\n",
       "      <td>19490</td>\n",
       "    </tr>\n",
       "    <tr>\n",
       "      <th>4</th>\n",
       "      <td>2020</td>\n",
       "      <td>54135</td>\n",
       "      <td>24998</td>\n",
       "    </tr>\n",
       "  </tbody>\n",
       "</table>\n",
       "</div>"
      ],
      "text/plain": [
       "   year  milage  price\n",
       "0  2020   51632  26641\n",
       "1  2017   57505  19995\n",
       "2  2022   26352  39000\n",
       "3  2020  108231  19490\n",
       "4  2020   54135  24998"
      ]
     },
     "execution_count": 71,
     "metadata": {},
     "output_type": "execute_result"
    }
   ],
   "source": [
    "df.head()"
   ]
  },
  {
   "cell_type": "markdown",
   "id": "ccc65df7",
   "metadata": {},
   "source": [
    "EDA"
   ]
  },
  {
   "cell_type": "code",
   "execution_count": 75,
   "id": "7a3c1fce",
   "metadata": {},
   "outputs": [
    {
     "data": {
      "text/html": [
       "<div>\n",
       "<style scoped>\n",
       "    .dataframe tbody tr th:only-of-type {\n",
       "        vertical-align: middle;\n",
       "    }\n",
       "\n",
       "    .dataframe tbody tr th {\n",
       "        vertical-align: top;\n",
       "    }\n",
       "\n",
       "    .dataframe thead th {\n",
       "        text-align: right;\n",
       "    }\n",
       "</style>\n",
       "<table border=\"1\" class=\"dataframe\">\n",
       "  <thead>\n",
       "    <tr style=\"text-align: right;\">\n",
       "      <th></th>\n",
       "      <th>milage</th>\n",
       "      <th>price</th>\n",
       "    </tr>\n",
       "    <tr>\n",
       "      <th>year</th>\n",
       "      <th></th>\n",
       "      <th></th>\n",
       "    </tr>\n",
       "  </thead>\n",
       "  <tbody>\n",
       "    <tr>\n",
       "      <th>1997</th>\n",
       "      <td>52000.000000</td>\n",
       "      <td>9999.000000</td>\n",
       "    </tr>\n",
       "    <tr>\n",
       "      <th>2005</th>\n",
       "      <td>138321.000000</td>\n",
       "      <td>5991.000000</td>\n",
       "    </tr>\n",
       "    <tr>\n",
       "      <th>2007</th>\n",
       "      <td>83077.500000</td>\n",
       "      <td>14557.250000</td>\n",
       "    </tr>\n",
       "    <tr>\n",
       "      <th>2008</th>\n",
       "      <td>123963.500000</td>\n",
       "      <td>10895.000000</td>\n",
       "    </tr>\n",
       "    <tr>\n",
       "      <th>2009</th>\n",
       "      <td>103586.250000</td>\n",
       "      <td>9123.250000</td>\n",
       "    </tr>\n",
       "    <tr>\n",
       "      <th>2010</th>\n",
       "      <td>133312.500000</td>\n",
       "      <td>10249.000000</td>\n",
       "    </tr>\n",
       "    <tr>\n",
       "      <th>2011</th>\n",
       "      <td>102606.812500</td>\n",
       "      <td>10438.937500</td>\n",
       "    </tr>\n",
       "    <tr>\n",
       "      <th>2012</th>\n",
       "      <td>115800.000000</td>\n",
       "      <td>11194.428571</td>\n",
       "    </tr>\n",
       "    <tr>\n",
       "      <th>2013</th>\n",
       "      <td>96466.333333</td>\n",
       "      <td>16915.047619</td>\n",
       "    </tr>\n",
       "    <tr>\n",
       "      <th>2014</th>\n",
       "      <td>101045.545455</td>\n",
       "      <td>12428.454545</td>\n",
       "    </tr>\n",
       "    <tr>\n",
       "      <th>2015</th>\n",
       "      <td>84936.421053</td>\n",
       "      <td>19632.473684</td>\n",
       "    </tr>\n",
       "    <tr>\n",
       "      <th>2016</th>\n",
       "      <td>86404.315789</td>\n",
       "      <td>18879.631579</td>\n",
       "    </tr>\n",
       "    <tr>\n",
       "      <th>2017</th>\n",
       "      <td>72111.117647</td>\n",
       "      <td>19481.529412</td>\n",
       "    </tr>\n",
       "    <tr>\n",
       "      <th>2018</th>\n",
       "      <td>66984.333333</td>\n",
       "      <td>22397.666667</td>\n",
       "    </tr>\n",
       "    <tr>\n",
       "      <th>2019</th>\n",
       "      <td>56854.913043</td>\n",
       "      <td>33525.913043</td>\n",
       "    </tr>\n",
       "    <tr>\n",
       "      <th>2020</th>\n",
       "      <td>41195.765432</td>\n",
       "      <td>33373.172840</td>\n",
       "    </tr>\n",
       "    <tr>\n",
       "      <th>2021</th>\n",
       "      <td>36104.244898</td>\n",
       "      <td>33546.775510</td>\n",
       "    </tr>\n",
       "    <tr>\n",
       "      <th>2022</th>\n",
       "      <td>31941.750000</td>\n",
       "      <td>40632.250000</td>\n",
       "    </tr>\n",
       "    <tr>\n",
       "      <th>2023</th>\n",
       "      <td>6305.250000</td>\n",
       "      <td>83434.000000</td>\n",
       "    </tr>\n",
       "  </tbody>\n",
       "</table>\n",
       "</div>"
      ],
      "text/plain": [
       "             milage         price\n",
       "year                             \n",
       "1997   52000.000000   9999.000000\n",
       "2005  138321.000000   5991.000000\n",
       "2007   83077.500000  14557.250000\n",
       "2008  123963.500000  10895.000000\n",
       "2009  103586.250000   9123.250000\n",
       "2010  133312.500000  10249.000000\n",
       "2011  102606.812500  10438.937500\n",
       "2012  115800.000000  11194.428571\n",
       "2013   96466.333333  16915.047619\n",
       "2014  101045.545455  12428.454545\n",
       "2015   84936.421053  19632.473684\n",
       "2016   86404.315789  18879.631579\n",
       "2017   72111.117647  19481.529412\n",
       "2018   66984.333333  22397.666667\n",
       "2019   56854.913043  33525.913043\n",
       "2020   41195.765432  33373.172840\n",
       "2021   36104.244898  33546.775510\n",
       "2022   31941.750000  40632.250000\n",
       "2023    6305.250000  83434.000000"
      ]
     },
     "execution_count": 75,
     "metadata": {},
     "output_type": "execute_result"
    }
   ],
   "source": [
    "df.groupby('year').agg('mean')"
   ]
  },
  {
   "cell_type": "code",
   "execution_count": 77,
   "id": "7e92d461",
   "metadata": {},
   "outputs": [
    {
     "data": {
      "text/plain": [
       "year\n",
       "1997     1\n",
       "2005     1\n",
       "2007     4\n",
       "2008     2\n",
       "2009     4\n",
       "2010     2\n",
       "2011    16\n",
       "2012     7\n",
       "2013    21\n",
       "2014    22\n",
       "2015    19\n",
       "2016    19\n",
       "2017    17\n",
       "2018     9\n",
       "2019    23\n",
       "2020    81\n",
       "2021    49\n",
       "2022     8\n",
       "2023     4\n",
       "Name: milage, dtype: int64"
      ]
     },
     "execution_count": 77,
     "metadata": {},
     "output_type": "execute_result"
    }
   ],
   "source": [
    "df.groupby('year')['milage'].count()"
   ]
  },
  {
   "cell_type": "markdown",
   "id": "0e7f179c",
   "metadata": {},
   "source": [
    "Train and Test split"
   ]
  },
  {
   "cell_type": "code",
   "execution_count": 78,
   "id": "ab2122ea",
   "metadata": {},
   "outputs": [],
   "source": [
    "X = df[['year','milage']].values\n",
    "Y = df.price.values"
   ]
  },
  {
   "cell_type": "code",
   "execution_count": 79,
   "id": "c5cf297b",
   "metadata": {},
   "outputs": [],
   "source": [
    "train_x, test_x, train_y, test_y = train_test_split(X, Y, train_size=0.7)"
   ]
  },
  {
   "cell_type": "code",
   "execution_count": 81,
   "id": "e20b220c",
   "metadata": {},
   "outputs": [
    {
     "name": "stdout",
     "output_type": "stream",
     "text": [
      "size of train x :  (216, 2)  size of train y :  (216,)\n",
      "size of test x :  (93, 2)  size of test y :  (93,)\n"
     ]
    }
   ],
   "source": [
    "print('size of train x : ', train_x.shape, ' size of train y : ', train_y.shape)\n",
    "print('size of test x : ', test_x.shape, ' size of test y : ', test_y.shape)"
   ]
  },
  {
   "cell_type": "markdown",
   "id": "d4ff23ad",
   "metadata": {},
   "source": [
    "Standarding the data"
   ]
  },
  {
   "cell_type": "code",
   "execution_count": 84,
   "id": "4d1b4133",
   "metadata": {},
   "outputs": [],
   "source": [
    "std = StandardScaler()\n",
    "x_train = std.fit_transform(train_x)\n",
    "x_test = std.transform(test_x)"
   ]
  },
  {
   "cell_type": "markdown",
   "id": "8b96cd4c",
   "metadata": {},
   "source": [
    "train the model"
   ]
  },
  {
   "cell_type": "code",
   "execution_count": 85,
   "id": "dd9ecb1b",
   "metadata": {},
   "outputs": [
    {
     "data": {
      "text/html": [
       "<style>#sk-container-id-1 {color: black;background-color: white;}#sk-container-id-1 pre{padding: 0;}#sk-container-id-1 div.sk-toggleable {background-color: white;}#sk-container-id-1 label.sk-toggleable__label {cursor: pointer;display: block;width: 100%;margin-bottom: 0;padding: 0.3em;box-sizing: border-box;text-align: center;}#sk-container-id-1 label.sk-toggleable__label-arrow:before {content: \"▸\";float: left;margin-right: 0.25em;color: #696969;}#sk-container-id-1 label.sk-toggleable__label-arrow:hover:before {color: black;}#sk-container-id-1 div.sk-estimator:hover label.sk-toggleable__label-arrow:before {color: black;}#sk-container-id-1 div.sk-toggleable__content {max-height: 0;max-width: 0;overflow: hidden;text-align: left;background-color: #f0f8ff;}#sk-container-id-1 div.sk-toggleable__content pre {margin: 0.2em;color: black;border-radius: 0.25em;background-color: #f0f8ff;}#sk-container-id-1 input.sk-toggleable__control:checked~div.sk-toggleable__content {max-height: 200px;max-width: 100%;overflow: auto;}#sk-container-id-1 input.sk-toggleable__control:checked~label.sk-toggleable__label-arrow:before {content: \"▾\";}#sk-container-id-1 div.sk-estimator input.sk-toggleable__control:checked~label.sk-toggleable__label {background-color: #d4ebff;}#sk-container-id-1 div.sk-label input.sk-toggleable__control:checked~label.sk-toggleable__label {background-color: #d4ebff;}#sk-container-id-1 input.sk-hidden--visually {border: 0;clip: rect(1px 1px 1px 1px);clip: rect(1px, 1px, 1px, 1px);height: 1px;margin: -1px;overflow: hidden;padding: 0;position: absolute;width: 1px;}#sk-container-id-1 div.sk-estimator {font-family: monospace;background-color: #f0f8ff;border: 1px dotted black;border-radius: 0.25em;box-sizing: border-box;margin-bottom: 0.5em;}#sk-container-id-1 div.sk-estimator:hover {background-color: #d4ebff;}#sk-container-id-1 div.sk-parallel-item::after {content: \"\";width: 100%;border-bottom: 1px solid gray;flex-grow: 1;}#sk-container-id-1 div.sk-label:hover label.sk-toggleable__label {background-color: #d4ebff;}#sk-container-id-1 div.sk-serial::before {content: \"\";position: absolute;border-left: 1px solid gray;box-sizing: border-box;top: 0;bottom: 0;left: 50%;z-index: 0;}#sk-container-id-1 div.sk-serial {display: flex;flex-direction: column;align-items: center;background-color: white;padding-right: 0.2em;padding-left: 0.2em;position: relative;}#sk-container-id-1 div.sk-item {position: relative;z-index: 1;}#sk-container-id-1 div.sk-parallel {display: flex;align-items: stretch;justify-content: center;background-color: white;position: relative;}#sk-container-id-1 div.sk-item::before, #sk-container-id-1 div.sk-parallel-item::before {content: \"\";position: absolute;border-left: 1px solid gray;box-sizing: border-box;top: 0;bottom: 0;left: 50%;z-index: -1;}#sk-container-id-1 div.sk-parallel-item {display: flex;flex-direction: column;z-index: 1;position: relative;background-color: white;}#sk-container-id-1 div.sk-parallel-item:first-child::after {align-self: flex-end;width: 50%;}#sk-container-id-1 div.sk-parallel-item:last-child::after {align-self: flex-start;width: 50%;}#sk-container-id-1 div.sk-parallel-item:only-child::after {width: 0;}#sk-container-id-1 div.sk-dashed-wrapped {border: 1px dashed gray;margin: 0 0.4em 0.5em 0.4em;box-sizing: border-box;padding-bottom: 0.4em;background-color: white;}#sk-container-id-1 div.sk-label label {font-family: monospace;font-weight: bold;display: inline-block;line-height: 1.2em;}#sk-container-id-1 div.sk-label-container {text-align: center;}#sk-container-id-1 div.sk-container {/* jupyter's `normalize.less` sets `[hidden] { display: none; }` but bootstrap.min.css set `[hidden] { display: none !important; }` so we also need the `!important` here to be able to override the default hidden behavior on the sphinx rendered scikit-learn.org. See: https://github.com/scikit-learn/scikit-learn/issues/21755 */display: inline-block !important;position: relative;}#sk-container-id-1 div.sk-text-repr-fallback {display: none;}</style><div id=\"sk-container-id-1\" class=\"sk-top-container\"><div class=\"sk-text-repr-fallback\"><pre>LinearRegression()</pre><b>In a Jupyter environment, please rerun this cell to show the HTML representation or trust the notebook. <br />On GitHub, the HTML representation is unable to render, please try loading this page with nbviewer.org.</b></div><div class=\"sk-container\" hidden><div class=\"sk-item\"><div class=\"sk-estimator sk-toggleable\"><input class=\"sk-toggleable__control sk-hidden--visually\" id=\"sk-estimator-id-1\" type=\"checkbox\" checked><label for=\"sk-estimator-id-1\" class=\"sk-toggleable__label sk-toggleable__label-arrow\">LinearRegression</label><div class=\"sk-toggleable__content\"><pre>LinearRegression()</pre></div></div></div></div></div>"
      ],
      "text/plain": [
       "LinearRegression()"
      ]
     },
     "execution_count": 85,
     "metadata": {},
     "output_type": "execute_result"
    }
   ],
   "source": [
    "model = LinearRegression()\n",
    "model.fit(x_train, train_y)"
   ]
  },
  {
   "cell_type": "markdown",
   "id": "ebc6d02c",
   "metadata": {},
   "source": [
    "predict with model"
   ]
  },
  {
   "cell_type": "code",
   "execution_count": 86,
   "id": "48f43f12",
   "metadata": {},
   "outputs": [],
   "source": [
    "predict_train = model.predict(x_train)\n",
    "predict_test = model.predict(x_test)"
   ]
  },
  {
   "cell_type": "code",
   "execution_count": 88,
   "id": "76127bc4",
   "metadata": {},
   "outputs": [
    {
     "name": "stdout",
     "output_type": "stream",
     "text": [
      "r2 score is train : 0.6121416134818954\n",
      "r2 score is test : 0.3983133435678775\n"
     ]
    }
   ],
   "source": [
    "from sklearn.metrics import r2_score\n",
    "\n",
    "print(f'r2 score is train : {r2_score(train_y, predict_train)}')\n",
    "print(f'r2 score is test : {r2_score(test_y, predict_test)}')"
   ]
  },
  {
   "cell_type": "markdown",
   "id": "fd9dd746",
   "metadata": {},
   "source": [
    "Mohammad Rasoul Azizi\n",
    "    (Summer of 2023)"
   ]
  }
 ],
 "metadata": {
  "kernelspec": {
   "display_name": "Python 3 (ipykernel)",
   "language": "python",
   "name": "python3"
  },
  "language_info": {
   "codemirror_mode": {
    "name": "ipython",
    "version": 3
   },
   "file_extension": ".py",
   "mimetype": "text/x-python",
   "name": "python",
   "nbconvert_exporter": "python",
   "pygments_lexer": "ipython3",
   "version": "3.10.11"
  }
 },
 "nbformat": 4,
 "nbformat_minor": 5
}
